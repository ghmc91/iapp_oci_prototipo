{
 "cells": [
  {
   "cell_type": "code",
   "execution_count": 2,
   "id": "fe78fcc0-1a42-4e22-bb00-fe5e581c07a1",
   "metadata": {},
   "outputs": [],
   "source": [
    "import json\n",
    "from typing import Dict, Any\n",
    "\n",
    "def carregar_dcns(caminho_arquivo: str) -> Dict[str, Any]:\n",
    "    \"\"\"\n",
    "    Carrega o JSON das Diretrizes Curriculares Nacionais (DCNs) de Computação.\n",
    "\n",
    "    Args:\n",
    "        caminho_arquivo (str): Caminho para o arquivo JSON. Default: \"dcns.json\"\n",
    "\n",
    "    Returns:\n",
    "        dict: Estrutura do JSON carregada em um dicionário Python.\n",
    "    \"\"\"\n",
    "    try:\n",
    "        with open(caminho_arquivo, \"r\", encoding=\"utf-8\") as f:\n",
    "            dados = json.load(f)\n",
    "        return dados\n",
    "    except FileNotFoundError:\n",
    "        print(f\"❌ Arquivo não encontrado: {caminho_arquivo}\")\n",
    "        return {}\n",
    "    except json.JSONDecodeError:\n",
    "        print(f\"❌ Erro ao decodificar JSON em {caminho_arquivo}\")\n",
    "        return {}\n"
   ]
  },
  {
   "cell_type": "code",
   "execution_count": 3,
   "id": "0d7eca04-b96c-4e34-bfaf-1ea44a3fe923",
   "metadata": {},
   "outputs": [
    {
     "data": {
      "text/plain": [
       "{'curso': 'Ciência da Computação',\n",
       " 'nivel': 'Ensino Superior',\n",
       " 'documento_base': 'Diretrizes Curriculares Nacionais (DCNs) - Resolução CNE/CES nº 5, de 16 de novembro de 2016',\n",
       " 'objetivos_gerais': ['Formar profissionais com sólida base em fundamentos da computação.',\n",
       "  'Capacitar para projetar, desenvolver e implantar soluções computacionais.',\n",
       "  'Considerar aspectos éticos, sociais e ambientais no exercício profissional.'],\n",
       " 'competencias_gerais': ['Analisar, projetar e desenvolver sistemas de software e hardware.',\n",
       "  'Aplicar fundamentos matemáticos, científicos e tecnológicos na resolução de problemas.',\n",
       "  'Avaliar impacto das soluções computacionais no contexto organizacional e social.',\n",
       "  'Atuar em equipes multidisciplinares.',\n",
       "  'Aprender de forma autônoma e contínua.'],\n",
       " 'competencias_especificas': ['Dominar estruturas de dados, algoritmos e linguagens de programação.',\n",
       "  'Conhecer arquitetura de computadores e sistemas operacionais.',\n",
       "  'Projetar e gerenciar bancos de dados.',\n",
       "  'Desenvolver sistemas distribuídos e redes de computadores.',\n",
       "  'Aplicar técnicas de engenharia de software.',\n",
       "  'Trabalhar com inteligência artificial e ciência de dados.',\n",
       "  'Considerar segurança, ética e sustentabilidade em soluções de TI.'],\n",
       " 'areas_formacao': {'fundamentos_computacao': ['matemática',\n",
       "   'lógica',\n",
       "   'algoritmos'],\n",
       "  'sistemas_computacao': ['arquitetura de computadores',\n",
       "   'sistemas operacionais',\n",
       "   'redes'],\n",
       "  'tecnologias_desenvolvimento': ['programação',\n",
       "   'engenharia de software',\n",
       "   'bancos de dados'],\n",
       "  'aspectos_teoricos': ['autômatos', 'linguagens formais', 'computabilidade'],\n",
       "  'integracao_aplicacao': ['projetos integradores',\n",
       "   'estágio supervisionado',\n",
       "   'TCC']},\n",
       " 'perfil_egresso': 'Profissional crítico, ético, inovador e apto a aplicar conhecimento técnico para desenvolvimento científico, tecnológico e social.',\n",
       " 'carga_horaria_minima_horas': 3000,\n",
       " 'componentes_obrigatorios': ['Projeto Integrador',\n",
       "  'Estágio Supervisionado (mínimo de 200 horas)',\n",
       "  'Trabalho de Conclusão de Curso (TCC)'],\n",
       " 'formacao_complementar': ['Atividades extensionistas',\n",
       "  'Disciplinas optativas',\n",
       "  'Projetos de pesquisa e inovação'],\n",
       " 'referencias_normativas': [{'titulo': 'Resolução CNE/CES nº 5, de 16 de novembro de 2016',\n",
       "   'link': 'http://portal.mec.gov.br/index.php?option=com_docman&view=download&alias=53601-rces005-16-pdf&category_slug=novembro-2016-pdf&Itemid=30192',\n",
       "   'orgao': 'Conselho Nacional de Educação / MEC'},\n",
       "  {'titulo': 'Catálogo Nacional de Cursos Superiores de Tecnologia',\n",
       "   'link': 'https://www.gov.br/mec/pt-br',\n",
       "   'orgao': 'Ministério da Educação'},\n",
       "  {'titulo': 'Diretrizes Curriculares da Educação Superior',\n",
       "   'link': 'https://emec.mec.gov.br/',\n",
       "   'orgao': 'MEC / e-MEC'}],\n",
       " 'referencias_bibliograficas': [{'autor': 'Cormen, T.; Leiserson, C.; Rivest, R.; Stein, C.',\n",
       "   'titulo': 'Algoritmos: Teoria e Prática',\n",
       "   'edicao': '3ª edição',\n",
       "   'ano': 2012,\n",
       "   'editora': 'Elsevier'},\n",
       "  {'autor': 'Tanenbaum, A.; Bos, H.',\n",
       "   'titulo': 'Sistemas Operacionais Modernos',\n",
       "   'edicao': '4ª edição',\n",
       "   'ano': 2015,\n",
       "   'editora': 'Pearson'},\n",
       "  {'autor': 'Silberschatz, A.; Korth, H.; Sudarshan, S.',\n",
       "   'titulo': 'Sistema de Banco de Dados',\n",
       "   'edicao': '6ª edição',\n",
       "   'ano': 2011,\n",
       "   'editora': 'McGraw-Hill'},\n",
       "  {'autor': 'Sommerville, I.',\n",
       "   'titulo': 'Engenharia de Software',\n",
       "   'edicao': '10ª edição',\n",
       "   'ano': 2018,\n",
       "   'editora': 'Pearson'},\n",
       "  {'autor': 'Russell, S.; Norvig, P.',\n",
       "   'titulo': 'Inteligência Artificial',\n",
       "   'edicao': '3ª edição',\n",
       "   'ano': 2013,\n",
       "   'editora': 'Elsevier'},\n",
       "  {'autor': 'Hopcroft, J.; Motwani, R.; Ullman, J.',\n",
       "   'titulo': 'Introdução à Teoria da Computação',\n",
       "   'edicao': '2ª edição',\n",
       "   'ano': 2006,\n",
       "   'editora': 'Campus'}]}"
      ]
     },
     "execution_count": 3,
     "metadata": {},
     "output_type": "execute_result"
    }
   ],
   "source": [
    "caminho = r'C:\\Users\\Usuario\\Documents\\IAPP\\iapp_oci_prototipo\\DCNS\\DCN_COMPUTACACAO.json'\n",
    "dados = carregar_dcns(caminho)\n",
    "dados"
   ]
  },
  {
   "cell_type": "code",
   "execution_count": 4,
   "id": "96b3394c-e253-40e2-9464-a2d241290942",
   "metadata": {},
   "outputs": [
    {
     "data": {
      "text/plain": [
       "'Ciência da Computação'"
      ]
     },
     "execution_count": 4,
     "metadata": {},
     "output_type": "execute_result"
    }
   ],
   "source": [
    "dados['curso']"
   ]
  },
  {
   "cell_type": "code",
   "execution_count": null,
   "id": "38a6b9e3-032c-445d-af91-1c47b1473ddf",
   "metadata": {},
   "outputs": [],
   "source": []
  }
 ],
 "metadata": {
  "kernelspec": {
   "display_name": "Python 3 (ipykernel)",
   "language": "python",
   "name": "python3"
  },
  "language_info": {
   "codemirror_mode": {
    "name": "ipython",
    "version": 3
   },
   "file_extension": ".py",
   "mimetype": "text/x-python",
   "name": "python",
   "nbconvert_exporter": "python",
   "pygments_lexer": "ipython3",
   "version": "3.10.11"
  }
 },
 "nbformat": 4,
 "nbformat_minor": 5
}
